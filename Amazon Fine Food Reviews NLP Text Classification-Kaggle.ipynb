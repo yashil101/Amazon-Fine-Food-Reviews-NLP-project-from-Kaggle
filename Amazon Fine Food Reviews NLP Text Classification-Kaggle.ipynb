{
 "cells": [
  {
   "cell_type": "markdown",
   "metadata": {
    "collapsed": true
   },
   "source": [
    "## Introduction and Motivation\n",
    "This problem dataset was taken from Kaggle website under the name \"Amazon Fine Food Reviews\". The motivation was to have an hands-on experience with a good Natural Language Processing problem along with sentiment analysis. Using the analysis in this work, a prediction model can be made to predict a recommendation/sentiment as either positive or negative."
   ]
  },
  {
   "cell_type": "markdown",
   "metadata": {},
   "source": [
    "## Problem Context\n",
    "The dataset used in this exercise was taken from Kaggle website. The dataset consists of ~500,000 reviews that were submitted over a span of more than 10 years. These reviews includes product and user information, ratings, and text review. Moreover, reviews from all other Amazon categories are also included."
   ]
  },
  {
   "cell_type": "markdown",
   "metadata": {},
   "source": [
    "#### Importing useful libraries and data  "
   ]
  },
  {
   "cell_type": "code",
   "execution_count": 269,
   "metadata": {},
   "outputs": [],
   "source": [
    "import pandas as pd\n",
    "import numpy as np\n",
    "import nltk\n",
    "import string\n",
    "import matplotlib.pyplot as plt\n",
    "import sqlite3\n",
    "import os\n",
    "from collections import Counter\n",
    "from wordcloud import WordCloud\n",
    "\n",
    "from sklearn.feature_extraction.text import TfidfVectorizer\n",
    "from sklearn.feature_extraction.text import CountVectorizer\n",
    "from sklearn.cross_validation import train_test_split\n",
    "from sklearn.metrics import confusion_matrix\n",
    "from sklearn.metrics import roc_curve,auc,roc_auc_score\n",
    "from sklearn.metrics import accuracy_score,f1_score\n",
    "from sklearn.grid_search import GridSearchCV\n",
    "from sklearn.pipeline import Pipeline\n",
    "from sklearn.linear_model import LogisticRegression\n",
    "from sklearn.svm import SVC\n",
    "from sklearn.naive_bayes import MultinomialNB\n",
    "from sklearn.metrics import classification_report\n",
    "\n",
    "from nltk.stem.porter import PorterStemmer\n",
    "from nltk.corpus import stopwords\n",
    "from nltk.stem.porter import PorterStemmer\n",
    "import time\n",
    "import re"
   ]
  },
  {
   "cell_type": "code",
   "execution_count": 270,
   "metadata": {
    "scrolled": false
   },
   "outputs": [
    {
     "data": {
      "text/html": [
       "<div>\n",
       "<style>\n",
       "    .dataframe thead tr:only-child th {\n",
       "        text-align: right;\n",
       "    }\n",
       "\n",
       "    .dataframe thead th {\n",
       "        text-align: left;\n",
       "    }\n",
       "\n",
       "    .dataframe tbody tr th {\n",
       "        vertical-align: top;\n",
       "    }\n",
       "</style>\n",
       "<table border=\"1\" class=\"dataframe\">\n",
       "  <thead>\n",
       "    <tr style=\"text-align: right;\">\n",
       "      <th></th>\n",
       "      <th>Id</th>\n",
       "      <th>ProductId</th>\n",
       "      <th>UserId</th>\n",
       "      <th>ProfileName</th>\n",
       "      <th>HelpfulnessNumerator</th>\n",
       "      <th>HelpfulnessDenominator</th>\n",
       "      <th>Score</th>\n",
       "      <th>Time</th>\n",
       "      <th>Summary</th>\n",
       "      <th>Text</th>\n",
       "    </tr>\n",
       "  </thead>\n",
       "  <tbody>\n",
       "    <tr>\n",
       "      <th>0</th>\n",
       "      <td>1</td>\n",
       "      <td>B001E4KFG0</td>\n",
       "      <td>A3SGXH7AUHU8GW</td>\n",
       "      <td>delmartian</td>\n",
       "      <td>1</td>\n",
       "      <td>1</td>\n",
       "      <td>5</td>\n",
       "      <td>1303862400</td>\n",
       "      <td>Good Quality Dog Food</td>\n",
       "      <td>I have bought several of the Vitality canned d...</td>\n",
       "    </tr>\n",
       "    <tr>\n",
       "      <th>1</th>\n",
       "      <td>2</td>\n",
       "      <td>B00813GRG4</td>\n",
       "      <td>A1D87F6ZCVE5NK</td>\n",
       "      <td>dll pa</td>\n",
       "      <td>0</td>\n",
       "      <td>0</td>\n",
       "      <td>1</td>\n",
       "      <td>1346976000</td>\n",
       "      <td>Not as Advertised</td>\n",
       "      <td>Product arrived labeled as Jumbo Salted Peanut...</td>\n",
       "    </tr>\n",
       "    <tr>\n",
       "      <th>2</th>\n",
       "      <td>3</td>\n",
       "      <td>B000LQOCH0</td>\n",
       "      <td>ABXLMWJIXXAIN</td>\n",
       "      <td>Natalia Corres \"Natalia Corres\"</td>\n",
       "      <td>1</td>\n",
       "      <td>1</td>\n",
       "      <td>4</td>\n",
       "      <td>1219017600</td>\n",
       "      <td>\"Delight\" says it all</td>\n",
       "      <td>This is a confection that has been around a fe...</td>\n",
       "    </tr>\n",
       "    <tr>\n",
       "      <th>3</th>\n",
       "      <td>4</td>\n",
       "      <td>B000UA0QIQ</td>\n",
       "      <td>A395BORC6FGVXV</td>\n",
       "      <td>Karl</td>\n",
       "      <td>3</td>\n",
       "      <td>3</td>\n",
       "      <td>2</td>\n",
       "      <td>1307923200</td>\n",
       "      <td>Cough Medicine</td>\n",
       "      <td>If you are looking for the secret ingredient i...</td>\n",
       "    </tr>\n",
       "    <tr>\n",
       "      <th>4</th>\n",
       "      <td>5</td>\n",
       "      <td>B006K2ZZ7K</td>\n",
       "      <td>A1UQRSCLF8GW1T</td>\n",
       "      <td>Michael D. Bigham \"M. Wassir\"</td>\n",
       "      <td>0</td>\n",
       "      <td>0</td>\n",
       "      <td>5</td>\n",
       "      <td>1350777600</td>\n",
       "      <td>Great taffy</td>\n",
       "      <td>Great taffy at a great price.  There was a wid...</td>\n",
       "    </tr>\n",
       "    <tr>\n",
       "      <th>5</th>\n",
       "      <td>6</td>\n",
       "      <td>B006K2ZZ7K</td>\n",
       "      <td>ADT0SRK1MGOEU</td>\n",
       "      <td>Twoapennything</td>\n",
       "      <td>0</td>\n",
       "      <td>0</td>\n",
       "      <td>4</td>\n",
       "      <td>1342051200</td>\n",
       "      <td>Nice Taffy</td>\n",
       "      <td>I got a wild hair for taffy and ordered this f...</td>\n",
       "    </tr>\n",
       "    <tr>\n",
       "      <th>6</th>\n",
       "      <td>7</td>\n",
       "      <td>B006K2ZZ7K</td>\n",
       "      <td>A1SP2KVKFXXRU1</td>\n",
       "      <td>David C. Sullivan</td>\n",
       "      <td>0</td>\n",
       "      <td>0</td>\n",
       "      <td>5</td>\n",
       "      <td>1340150400</td>\n",
       "      <td>Great!  Just as good as the expensive brands!</td>\n",
       "      <td>This saltwater taffy had great flavors and was...</td>\n",
       "    </tr>\n",
       "    <tr>\n",
       "      <th>7</th>\n",
       "      <td>8</td>\n",
       "      <td>B006K2ZZ7K</td>\n",
       "      <td>A3JRGQVEQN31IQ</td>\n",
       "      <td>Pamela G. Williams</td>\n",
       "      <td>0</td>\n",
       "      <td>0</td>\n",
       "      <td>5</td>\n",
       "      <td>1336003200</td>\n",
       "      <td>Wonderful, tasty taffy</td>\n",
       "      <td>This taffy is so good.  It is very soft and ch...</td>\n",
       "    </tr>\n",
       "    <tr>\n",
       "      <th>8</th>\n",
       "      <td>9</td>\n",
       "      <td>B000E7L2R4</td>\n",
       "      <td>A1MZYO9TZK0BBI</td>\n",
       "      <td>R. James</td>\n",
       "      <td>1</td>\n",
       "      <td>1</td>\n",
       "      <td>5</td>\n",
       "      <td>1322006400</td>\n",
       "      <td>Yay Barley</td>\n",
       "      <td>Right now I'm mostly just sprouting this so my...</td>\n",
       "    </tr>\n",
       "    <tr>\n",
       "      <th>9</th>\n",
       "      <td>10</td>\n",
       "      <td>B00171APVA</td>\n",
       "      <td>A21BT40VZCCYT4</td>\n",
       "      <td>Carol A. Reed</td>\n",
       "      <td>0</td>\n",
       "      <td>0</td>\n",
       "      <td>5</td>\n",
       "      <td>1351209600</td>\n",
       "      <td>Healthy Dog Food</td>\n",
       "      <td>This is a very healthy dog food. Good for thei...</td>\n",
       "    </tr>\n",
       "  </tbody>\n",
       "</table>\n",
       "</div>"
      ],
      "text/plain": [
       "   Id   ProductId          UserId                      ProfileName  \\\n",
       "0   1  B001E4KFG0  A3SGXH7AUHU8GW                       delmartian   \n",
       "1   2  B00813GRG4  A1D87F6ZCVE5NK                           dll pa   \n",
       "2   3  B000LQOCH0   ABXLMWJIXXAIN  Natalia Corres \"Natalia Corres\"   \n",
       "3   4  B000UA0QIQ  A395BORC6FGVXV                             Karl   \n",
       "4   5  B006K2ZZ7K  A1UQRSCLF8GW1T    Michael D. Bigham \"M. Wassir\"   \n",
       "5   6  B006K2ZZ7K   ADT0SRK1MGOEU                   Twoapennything   \n",
       "6   7  B006K2ZZ7K  A1SP2KVKFXXRU1                David C. Sullivan   \n",
       "7   8  B006K2ZZ7K  A3JRGQVEQN31IQ               Pamela G. Williams   \n",
       "8   9  B000E7L2R4  A1MZYO9TZK0BBI                         R. James   \n",
       "9  10  B00171APVA  A21BT40VZCCYT4                    Carol A. Reed   \n",
       "\n",
       "   HelpfulnessNumerator  HelpfulnessDenominator  Score        Time  \\\n",
       "0                     1                       1      5  1303862400   \n",
       "1                     0                       0      1  1346976000   \n",
       "2                     1                       1      4  1219017600   \n",
       "3                     3                       3      2  1307923200   \n",
       "4                     0                       0      5  1350777600   \n",
       "5                     0                       0      4  1342051200   \n",
       "6                     0                       0      5  1340150400   \n",
       "7                     0                       0      5  1336003200   \n",
       "8                     1                       1      5  1322006400   \n",
       "9                     0                       0      5  1351209600   \n",
       "\n",
       "                                         Summary  \\\n",
       "0                          Good Quality Dog Food   \n",
       "1                              Not as Advertised   \n",
       "2                          \"Delight\" says it all   \n",
       "3                                 Cough Medicine   \n",
       "4                                    Great taffy   \n",
       "5                                     Nice Taffy   \n",
       "6  Great!  Just as good as the expensive brands!   \n",
       "7                         Wonderful, tasty taffy   \n",
       "8                                     Yay Barley   \n",
       "9                               Healthy Dog Food   \n",
       "\n",
       "                                                Text  \n",
       "0  I have bought several of the Vitality canned d...  \n",
       "1  Product arrived labeled as Jumbo Salted Peanut...  \n",
       "2  This is a confection that has been around a fe...  \n",
       "3  If you are looking for the secret ingredient i...  \n",
       "4  Great taffy at a great price.  There was a wid...  \n",
       "5  I got a wild hair for taffy and ordered this f...  \n",
       "6  This saltwater taffy had great flavors and was...  \n",
       "7  This taffy is so good.  It is very soft and ch...  \n",
       "8  Right now I'm mostly just sprouting this so my...  \n",
       "9  This is a very healthy dog food. Good for thei...  "
      ]
     },
     "execution_count": 270,
     "metadata": {},
     "output_type": "execute_result"
    }
   ],
   "source": [
    "df_temp=pd.read_csv('Reviews.csv')\n",
    "df_temp.head(10)"
   ]
  },
  {
   "cell_type": "markdown",
   "metadata": {},
   "source": [
    "The dataset contains many columns such as \"Id\", \"ProductId\", \"UserId\" \"ProfileName\" and \"Time\" which might be useful for some exploratory analysis along based on specific users and their preferences for some particular product type. For the purpose of text classification task where a particular review will be classified as either a \"Positive\" class or a \"Negative\" class, these columns are of not much use. "
   ]
  },
  {
   "cell_type": "markdown",
   "metadata": {},
   "source": [
    "Therefore, for our text classification task of a review, we will try to use supervised learning where we will use \"Summary\" columns as our features and \"Score\" columns as class labels. We could have used the \"Text\" column as well along with \"Summary\" column  which contains a more detailed review for a particluar product for a better analysis but I will go on with only \"Summary\" as of now. Moreover, for simplicity purpose, we will convert our Scores as \"positive\" for scores higher than or equal to 3 and \"negative\" to all cases otherwise. This is make this classification problem from mulitclass classification to binary classification problem. "
   ]
  },
  {
   "cell_type": "code",
   "execution_count": 271,
   "metadata": {},
   "outputs": [
    {
     "data": {
      "text/html": [
       "<div>\n",
       "<style>\n",
       "    .dataframe thead tr:only-child th {\n",
       "        text-align: right;\n",
       "    }\n",
       "\n",
       "    .dataframe thead th {\n",
       "        text-align: left;\n",
       "    }\n",
       "\n",
       "    .dataframe tbody tr th {\n",
       "        vertical-align: top;\n",
       "    }\n",
       "</style>\n",
       "<table border=\"1\" class=\"dataframe\">\n",
       "  <thead>\n",
       "    <tr style=\"text-align: right;\">\n",
       "      <th></th>\n",
       "      <th>Score</th>\n",
       "      <th>Summary</th>\n",
       "    </tr>\n",
       "  </thead>\n",
       "  <tbody>\n",
       "    <tr>\n",
       "      <th>0</th>\n",
       "      <td>5</td>\n",
       "      <td>Good Quality Dog Food</td>\n",
       "    </tr>\n",
       "    <tr>\n",
       "      <th>1</th>\n",
       "      <td>1</td>\n",
       "      <td>Not as Advertised</td>\n",
       "    </tr>\n",
       "    <tr>\n",
       "      <th>2</th>\n",
       "      <td>4</td>\n",
       "      <td>\"Delight\" says it all</td>\n",
       "    </tr>\n",
       "    <tr>\n",
       "      <th>3</th>\n",
       "      <td>2</td>\n",
       "      <td>Cough Medicine</td>\n",
       "    </tr>\n",
       "    <tr>\n",
       "      <th>4</th>\n",
       "      <td>5</td>\n",
       "      <td>Great taffy</td>\n",
       "    </tr>\n",
       "    <tr>\n",
       "      <th>5</th>\n",
       "      <td>4</td>\n",
       "      <td>Nice Taffy</td>\n",
       "    </tr>\n",
       "    <tr>\n",
       "      <th>6</th>\n",
       "      <td>5</td>\n",
       "      <td>Great!  Just as good as the expensive brands!</td>\n",
       "    </tr>\n",
       "    <tr>\n",
       "      <th>7</th>\n",
       "      <td>5</td>\n",
       "      <td>Wonderful, tasty taffy</td>\n",
       "    </tr>\n",
       "    <tr>\n",
       "      <th>8</th>\n",
       "      <td>5</td>\n",
       "      <td>Yay Barley</td>\n",
       "    </tr>\n",
       "    <tr>\n",
       "      <th>9</th>\n",
       "      <td>5</td>\n",
       "      <td>Healthy Dog Food</td>\n",
       "    </tr>\n",
       "  </tbody>\n",
       "</table>\n",
       "</div>"
      ],
      "text/plain": [
       "   Score                                        Summary\n",
       "0      5                          Good Quality Dog Food\n",
       "1      1                              Not as Advertised\n",
       "2      4                          \"Delight\" says it all\n",
       "3      2                                 Cough Medicine\n",
       "4      5                                    Great taffy\n",
       "5      4                                     Nice Taffy\n",
       "6      5  Great!  Just as good as the expensive brands!\n",
       "7      5                         Wonderful, tasty taffy\n",
       "8      5                                     Yay Barley\n",
       "9      5                               Healthy Dog Food"
      ]
     },
     "execution_count": 271,
     "metadata": {},
     "output_type": "execute_result"
    }
   ],
   "source": [
    "df=df_temp.iloc[:,[6,8]]\n",
    "df.head(10)"
   ]
  },
  {
   "cell_type": "markdown",
   "metadata": {},
   "source": [
    "Let's define a function to takes scores ranging from 1 to 5 and returns them as positive or negative score as discussed earlier."
   ]
  },
  {
   "cell_type": "code",
   "execution_count": 272,
   "metadata": {
    "collapsed": true
   },
   "outputs": [],
   "source": [
    "def review(x):\n",
    "    if x<3:\n",
    "        return 'negative'\n",
    "    return 'positive'"
   ]
  },
  {
   "cell_type": "markdown",
   "metadata": {},
   "source": [
    "For the purpose of training a supervised learning algorithm on our data, we first need to separate our data in features and labels."
   ]
  },
  {
   "cell_type": "code",
   "execution_count": 273,
   "metadata": {},
   "outputs": [],
   "source": [
    "Score=df['Score']\n",
    "Score=Score.map(review)\n",
    "Summary=df['Summary']\n"
   ]
  },
  {
   "cell_type": "markdown",
   "metadata": {},
   "source": [
    "Also, let's split our data in training and test datasets with 80% for the purpose of training and 20% for the purpose of validating our models. For this, we will use Scikit-learn train_test_split method."
   ]
  },
  {
   "cell_type": "code",
   "execution_count": 275,
   "metadata": {},
   "outputs": [
    {
     "name": "stdout",
     "output_type": "stream",
     "text": [
      "       Score                                            Summary\n",
      "0   positive                              Good Quality Dog Food\n",
      "1   negative                                  Not as Advertised\n",
      "2   positive                              \"Delight\" says it all\n",
      "3   negative                                     Cough Medicine\n",
      "4   positive                                        Great taffy\n",
      "5   positive                                         Nice Taffy\n",
      "6   positive      Great!  Just as good as the expensive brands!\n",
      "7   positive                             Wonderful, tasty taffy\n",
      "8   positive                                         Yay Barley\n",
      "9   positive                                   Healthy Dog Food\n",
      "10  positive                    The Best Hot Sauce in the World\n",
      "11  positive  My cats LOVE this \"diet\" food better than thei...\n",
      "12  negative               My Cats Are Not Fans of the New Food\n",
      "13  positive                                  fresh and greasy!\n",
      "14  positive                       Strawberry Twizzlers - Yummy\n",
      "15  positive           Lots of twizzlers, just what you expect.\n",
      "16  negative                                         poor taste\n",
      "17  positive                                           Love it!\n",
      "18  positive                                 GREAT SWEET CANDY!\n",
      "19  positive                            Home delivered twizlers\n"
     ]
    },
    {
     "name": "stderr",
     "output_type": "stream",
     "text": [
      "C:\\Users\\yarathor\\AppData\\Local\\Continuum\\anaconda3\\lib\\site-packages\\ipykernel_launcher.py:1: SettingWithCopyWarning: \n",
      "A value is trying to be set on a copy of a slice from a DataFrame.\n",
      "Try using .loc[row_indexer,col_indexer] = value instead\n",
      "\n",
      "See the caveats in the documentation: http://pandas.pydata.org/pandas-docs/stable/indexing.html#indexing-view-versus-copy\n",
      "  \"\"\"Entry point for launching an IPython kernel.\n"
     ]
    }
   ],
   "source": [
    "df['Score']=df['Score'].map(review)\n",
    "print(df.head(20))"
   ]
  },
  {
   "cell_type": "markdown",
   "metadata": {},
   "source": [
    "We have now transformed our integer score as an opinion: positive or negative."
   ]
  },
  {
   "cell_type": "markdown",
   "metadata": {},
   "source": [
    "### Are the classes balanced?\n",
    "\n",
    "Lets plot number of scores in each class, namely positive and negative. This will give us an idea of the distribution of classes in our dataset."
   ]
  },
  {
   "cell_type": "code",
   "execution_count": 276,
   "metadata": {},
   "outputs": [
    {
     "name": "stdout",
     "output_type": "stream",
     "text": [
      "Counter({'positive': 486417, 'negative': 82037})\n"
     ]
    },
    {
     "data": {
      "image/png": "[encoded data removed]",
      "text/plain": [
       "<matplotlib.figure.Figure at 0x2133b9c3780>"
      ]
     },
     "metadata": {},
     "output_type": "display_data"
    }
   ],
   "source": [
    "scores = list(df['Score'])\n",
    "freqs = Counter(scores)\n",
    "print (freqs)\n",
    "x = list(freqs.keys())\n",
    "y = list(freqs.values())\n",
    "width = 1/2.0\n",
    "plt.bar( x, y, width ,color=\"red\" )\n",
    "plt.show()"
   ]
  },
  {
   "cell_type": "markdown",
   "metadata": {},
   "source": [
    "It seems that the classes for this problem are imbalanced in nature. Hence only predicting accuracy for a particular class might not be good measure to predict model performance. Hence, while building our models, we need to make sure that that we employ other performance metrics such as f1_score which is the weighted average of precision and recall and confusion matrix to get better insight than traditional accuracy metric."
   ]
  },
  {
   "cell_type": "markdown",
   "metadata": {},
   "source": [
    "### Wordclouds"
   ]
  },
  {
   "cell_type": "markdown",
   "metadata": {},
   "source": [
    "Next we can plot some wordcloud from our positive and negative class and see which words occur in greater frequency. Plotting wordcloud gives an interesting insight and can tell us what words can better describe a review as a positive or a negative feedback. However, it should be noted that users generally use many stopwords which occur more frequently and don't give too much information for our analysis. Hence we will perform some cleaning to make sure only meaningful words appear in our wordclouds."
   ]
  },
  {
   "cell_type": "code",
   "execution_count": 277,
   "metadata": {},
   "outputs": [
    {
     "name": "stdout",
     "output_type": "stream",
     "text": [
      "Positive Word Cloud\n"
     ]
    },
    {
     "data": {
      "image/png": "[encoded data removed]",
      "text/plain": [
       "<matplotlib.figure.Figure at 0x2133fb2fa20>"
      ]
     },
     "metadata": {},
     "output_type": "display_data"
    },
    {
     "name": "stdout",
     "output_type": "stream",
     "text": [
      "Negative Word-Cloud\n"
     ]
    },
    {
     "data": {
      "image/png": "[encoded data removed]",
      "text/plain": [
       "<matplotlib.figure.Figure at 0x2133ba33cf8>"
      ]
     },
     "metadata": {},
     "output_type": "display_data"
    }
   ],
   "source": [
    "review_pos = ''\n",
    "review_neg = ''\n",
    "\n",
    "df_temp2 = df_temp\n",
    "df_temp2['Score'] = df_temp2['Score'].map(review)\n",
    "\n",
    "intab = string.punctuation\n",
    "outtab = \"                                \"\n",
    "trantab = str.maketrans(intab, outtab)\n",
    "\n",
    "pos_words = df_temp2.loc[df_temp2['Score'] == 'positive']\n",
    "pos_words = pos_words[0:10000]\n",
    "\n",
    "for val in pos_words['Summary']:\n",
    "    if(type(val)==str):\n",
    "        text = val.lower()\n",
    "        text = text.translate(trantab)\n",
    "        tokens = nltk.word_tokenize(text)\n",
    "        tokens = [word for word in tokens if word not in stopwords.words('english')]\n",
    "        for words in tokens:\n",
    "            review_pos = review_pos + words + ' '\n",
    "\n",
    "print('Positive Word Cloud')\n",
    "wordcloud_pos = WordCloud(background_color='white',\n",
    "                         scale=3,max_font_size=50,\n",
    "                         random_state=1).generate(review_pos)\n",
    "plt.figure()\n",
    "plt.imshow(wordcloud_pos)\n",
    "plt.axis(\"off\")\n",
    "plt.show()\n",
    "\n",
    "\n",
    "\n",
    "print ('Negative Word-Cloud')\n",
    "neg = df_temp.loc[df_temp['Score'] == 'negative']\n",
    "neg = neg[0:10000]\n",
    "\n",
    "for val in neg['Summary']:\n",
    "    if(type(val)==str):\n",
    "        text = val.lower()\n",
    "        text = text.translate(trantab)\n",
    "        tokens = nltk.word_tokenize(text)\n",
    "        tokens = [word for word in tokens if word not in stopwords.words('english')]\n",
    "        for words in tokens:\n",
    "            negative_words = negative_words + words + ' '\n",
    "\n",
    "            \n",
    "wordcloud_neg= WordCloud(background_color='white',\n",
    "                         scale=3,max_font_size=50,\n",
    "                         random_state=1).generate(negative_words)\n",
    "\n",
    "        \n",
    "plt.figure()\n",
    "plt.imshow(wordcloud_neg)\n",
    "plt.axis(\"off\")\n",
    "plt.show()"
   ]
  },
  {
   "cell_type": "markdown",
   "metadata": {},
   "source": [
    "By looking at our wordclouds for positive and negative reviews, we see that words like 'great', 'best', 'delicious', 'good',  'love', 'excellent' etc are used very commonly for positive reviews. In contrast, 'bad', 'horrible', 'disappointed', 'yuck', 'awful' etc. are more frequently used words for negative samples."
   ]
  },
  {
   "cell_type": "markdown",
   "metadata": {},
   "source": [
    "### Cleaning and Preprocessing the data\n",
    "\n",
    "We can see in our \"Summary\" column that users have submitted their reviews in various styles using upper-case and punctuations. We need to process them to a common (lower-case) case. The purpose for doing this is to make the models interprets \"great\" and \"GREAT\" as a same entity. We will use python re module to get rid of punctuations and upper-case letters from our summary."
   ]
  },
  {
   "cell_type": "code",
   "execution_count": 278,
   "metadata": {
    "collapsed": true
   },
   "outputs": [],
   "source": [
    "import re\n",
    "\n",
    "def preprocessor(text):\n",
    "    text=re.sub('<[^>]*>','',str(text))\n",
    "    text = re.sub(r'\\<a href', ' ',str(text))\n",
    "    text = re.sub(r'&amp;', '', str(text))\n",
    "    text=re.sub(r'[_\"\\-;%()|+&=*%.,!?:#$@\\[\\]/]', ' ',str(text))\n",
    "    text = re.sub(r'\\'', ' ', str(text))\n",
    "    text=re.sub('[\\W]+',' ',text.lower())\n",
    "    return text\n"
   ]
  },
  {
   "cell_type": "code",
   "execution_count": 279,
   "metadata": {},
   "outputs": [
    {
     "name": "stderr",
     "output_type": "stream",
     "text": [
      "C:\\Users\\yarathor\\AppData\\Local\\Continuum\\anaconda3\\lib\\site-packages\\ipykernel_launcher.py:1: SettingWithCopyWarning: \n",
      "A value is trying to be set on a copy of a slice from a DataFrame.\n",
      "Try using .loc[row_indexer,col_indexer] = value instead\n",
      "\n",
      "See the caveats in the documentation: http://pandas.pydata.org/pandas-docs/stable/indexing.html#indexing-view-versus-copy\n",
      "  \"\"\"Entry point for launching an IPython kernel.\n"
     ]
    }
   ],
   "source": [
    "df['Summary']=df['Summary'].apply(preprocessor)"
   ]
  },
  {
   "cell_type": "code",
   "execution_count": 280,
   "metadata": {},
   "outputs": [
    {
     "data": {
      "text/html": [
       "<div>\n",
       "<style>\n",
       "    .dataframe thead tr:only-child th {\n",
       "        text-align: right;\n",
       "    }\n",
       "\n",
       "    .dataframe thead th {\n",
       "        text-align: left;\n",
       "    }\n",
       "\n",
       "    .dataframe tbody tr th {\n",
       "        vertical-align: top;\n",
       "    }\n",
       "</style>\n",
       "<table border=\"1\" class=\"dataframe\">\n",
       "  <thead>\n",
       "    <tr style=\"text-align: right;\">\n",
       "      <th></th>\n",
       "      <th>Score</th>\n",
       "      <th>Summary</th>\n",
       "    </tr>\n",
       "  </thead>\n",
       "  <tbody>\n",
       "    <tr>\n",
       "      <th>0</th>\n",
       "      <td>positive</td>\n",
       "      <td>good quality dog food</td>\n",
       "    </tr>\n",
       "    <tr>\n",
       "      <th>1</th>\n",
       "      <td>negative</td>\n",
       "      <td>not as advertised</td>\n",
       "    </tr>\n",
       "    <tr>\n",
       "      <th>2</th>\n",
       "      <td>positive</td>\n",
       "      <td>delight says it all</td>\n",
       "    </tr>\n",
       "    <tr>\n",
       "      <th>3</th>\n",
       "      <td>negative</td>\n",
       "      <td>cough medicine</td>\n",
       "    </tr>\n",
       "    <tr>\n",
       "      <th>4</th>\n",
       "      <td>positive</td>\n",
       "      <td>great taffy</td>\n",
       "    </tr>\n",
       "    <tr>\n",
       "      <th>5</th>\n",
       "      <td>positive</td>\n",
       "      <td>nice taffy</td>\n",
       "    </tr>\n",
       "    <tr>\n",
       "      <th>6</th>\n",
       "      <td>positive</td>\n",
       "      <td>great just as good as the expensive brands</td>\n",
       "    </tr>\n",
       "    <tr>\n",
       "      <th>7</th>\n",
       "      <td>positive</td>\n",
       "      <td>wonderful tasty taffy</td>\n",
       "    </tr>\n",
       "    <tr>\n",
       "      <th>8</th>\n",
       "      <td>positive</td>\n",
       "      <td>yay barley</td>\n",
       "    </tr>\n",
       "    <tr>\n",
       "      <th>9</th>\n",
       "      <td>positive</td>\n",
       "      <td>healthy dog food</td>\n",
       "    </tr>\n",
       "  </tbody>\n",
       "</table>\n",
       "</div>"
      ],
      "text/plain": [
       "      Score                                      Summary\n",
       "0  positive                        good quality dog food\n",
       "1  negative                            not as advertised\n",
       "2  positive                          delight says it all\n",
       "3  negative                               cough medicine\n",
       "4  positive                                  great taffy\n",
       "5  positive                                   nice taffy\n",
       "6  positive  great just as good as the expensive brands \n",
       "7  positive                        wonderful tasty taffy\n",
       "8  positive                                   yay barley\n",
       "9  positive                             healthy dog food"
      ]
     },
     "execution_count": 280,
     "metadata": {},
     "output_type": "execute_result"
    }
   ],
   "source": [
    "df.head(10)"
   ]
  },
  {
   "cell_type": "markdown",
   "metadata": {},
   "source": [
    "Next, we will utilize NLTK library to tokenize words, remove stopwords and perform stemming of words using PorterStemmer. "
   ]
  },
  {
   "cell_type": "code",
   "execution_count": 281,
   "metadata": {
    "collapsed": true
   },
   "outputs": [],
   "source": [
    "def tokenizer(text):\n",
    "    return text.split()"
   ]
  },
  {
   "cell_type": "code",
   "execution_count": 282,
   "metadata": {
    "collapsed": true
   },
   "outputs": [],
   "source": [
    "porter=PorterStemmer()\n",
    "\n",
    "def tokenize_porter(text):\n",
    "    return [porter.stem(word) for word in text.split() ]\n"
   ]
  },
  {
   "cell_type": "markdown",
   "metadata": {},
   "source": [
    "We will create a separate (dummy) Summary column to see the results of our text preprocessing steps and to make sure our tokenizer and tokenize_porter functions are working as expected."
   ]
  },
  {
   "cell_type": "code",
   "execution_count": 283,
   "metadata": {},
   "outputs": [
    {
     "name": "stderr",
     "output_type": "stream",
     "text": [
      "C:\\Users\\yarathor\\AppData\\Local\\Continuum\\anaconda3\\lib\\site-packages\\ipykernel_launcher.py:1: SettingWithCopyWarning: \n",
      "A value is trying to be set on a copy of a slice from a DataFrame.\n",
      "Try using .loc[row_indexer,col_indexer] = value instead\n",
      "\n",
      "See the caveats in the documentation: http://pandas.pydata.org/pandas-docs/stable/indexing.html#indexing-view-versus-copy\n",
      "  \"\"\"Entry point for launching an IPython kernel.\n"
     ]
    }
   ],
   "source": [
    "df['Summary1']=df['Summary'].apply(tokenizer)"
   ]
  },
  {
   "cell_type": "code",
   "execution_count": 284,
   "metadata": {},
   "outputs": [
    {
     "data": {
      "text/html": [
       "<div>\n",
       "<style>\n",
       "    .dataframe thead tr:only-child th {\n",
       "        text-align: right;\n",
       "    }\n",
       "\n",
       "    .dataframe thead th {\n",
       "        text-align: left;\n",
       "    }\n",
       "\n",
       "    .dataframe tbody tr th {\n",
       "        vertical-align: top;\n",
       "    }\n",
       "</style>\n",
       "<table border=\"1\" class=\"dataframe\">\n",
       "  <thead>\n",
       "    <tr style=\"text-align: right;\">\n",
       "      <th></th>\n",
       "      <th>Score</th>\n",
       "      <th>Summary</th>\n",
       "      <th>Summary1</th>\n",
       "    </tr>\n",
       "  </thead>\n",
       "  <tbody>\n",
       "    <tr>\n",
       "      <th>0</th>\n",
       "      <td>positive</td>\n",
       "      <td>good quality dog food</td>\n",
       "      <td>[good, quality, dog, food]</td>\n",
       "    </tr>\n",
       "    <tr>\n",
       "      <th>1</th>\n",
       "      <td>negative</td>\n",
       "      <td>not as advertised</td>\n",
       "      <td>[not, as, advertised]</td>\n",
       "    </tr>\n",
       "    <tr>\n",
       "      <th>2</th>\n",
       "      <td>positive</td>\n",
       "      <td>delight says it all</td>\n",
       "      <td>[delight, says, it, all]</td>\n",
       "    </tr>\n",
       "    <tr>\n",
       "      <th>3</th>\n",
       "      <td>negative</td>\n",
       "      <td>cough medicine</td>\n",
       "      <td>[cough, medicine]</td>\n",
       "    </tr>\n",
       "    <tr>\n",
       "      <th>4</th>\n",
       "      <td>positive</td>\n",
       "      <td>great taffy</td>\n",
       "      <td>[great, taffy]</td>\n",
       "    </tr>\n",
       "    <tr>\n",
       "      <th>5</th>\n",
       "      <td>positive</td>\n",
       "      <td>nice taffy</td>\n",
       "      <td>[nice, taffy]</td>\n",
       "    </tr>\n",
       "    <tr>\n",
       "      <th>6</th>\n",
       "      <td>positive</td>\n",
       "      <td>great just as good as the expensive brands</td>\n",
       "      <td>[great, just, as, good, as, the, expensive, br...</td>\n",
       "    </tr>\n",
       "    <tr>\n",
       "      <th>7</th>\n",
       "      <td>positive</td>\n",
       "      <td>wonderful tasty taffy</td>\n",
       "      <td>[wonderful, tasty, taffy]</td>\n",
       "    </tr>\n",
       "    <tr>\n",
       "      <th>8</th>\n",
       "      <td>positive</td>\n",
       "      <td>yay barley</td>\n",
       "      <td>[yay, barley]</td>\n",
       "    </tr>\n",
       "    <tr>\n",
       "      <th>9</th>\n",
       "      <td>positive</td>\n",
       "      <td>healthy dog food</td>\n",
       "      <td>[healthy, dog, food]</td>\n",
       "    </tr>\n",
       "  </tbody>\n",
       "</table>\n",
       "</div>"
      ],
      "text/plain": [
       "      Score                                      Summary  \\\n",
       "0  positive                        good quality dog food   \n",
       "1  negative                            not as advertised   \n",
       "2  positive                          delight says it all   \n",
       "3  negative                               cough medicine   \n",
       "4  positive                                  great taffy   \n",
       "5  positive                                   nice taffy   \n",
       "6  positive  great just as good as the expensive brands    \n",
       "7  positive                        wonderful tasty taffy   \n",
       "8  positive                                   yay barley   \n",
       "9  positive                             healthy dog food   \n",
       "\n",
       "                                            Summary1  \n",
       "0                         [good, quality, dog, food]  \n",
       "1                              [not, as, advertised]  \n",
       "2                           [delight, says, it, all]  \n",
       "3                                  [cough, medicine]  \n",
       "4                                     [great, taffy]  \n",
       "5                                      [nice, taffy]  \n",
       "6  [great, just, as, good, as, the, expensive, br...  \n",
       "7                          [wonderful, tasty, taffy]  \n",
       "8                                      [yay, barley]  \n",
       "9                               [healthy, dog, food]  "
      ]
     },
     "execution_count": 284,
     "metadata": {},
     "output_type": "execute_result"
    }
   ],
   "source": [
    "df.head(10)"
   ]
  },
  {
   "cell_type": "code",
   "execution_count": 285,
   "metadata": {},
   "outputs": [
    {
     "name": "stderr",
     "output_type": "stream",
     "text": [
      "C:\\Users\\yarathor\\AppData\\Local\\Continuum\\anaconda3\\lib\\site-packages\\ipykernel_launcher.py:1: SettingWithCopyWarning: \n",
      "A value is trying to be set on a copy of a slice from a DataFrame.\n",
      "Try using .loc[row_indexer,col_indexer] = value instead\n",
      "\n",
      "See the caveats in the documentation: http://pandas.pydata.org/pandas-docs/stable/indexing.html#indexing-view-versus-copy\n",
      "  \"\"\"Entry point for launching an IPython kernel.\n"
     ]
    }
   ],
   "source": [
    "df['Summary1']=df['Summary'].apply(tokenize_porter)"
   ]
  },
  {
   "cell_type": "code",
   "execution_count": 286,
   "metadata": {},
   "outputs": [
    {
     "data": {
      "text/html": [
       "<div>\n",
       "<style>\n",
       "    .dataframe thead tr:only-child th {\n",
       "        text-align: right;\n",
       "    }\n",
       "\n",
       "    .dataframe thead th {\n",
       "        text-align: left;\n",
       "    }\n",
       "\n",
       "    .dataframe tbody tr th {\n",
       "        vertical-align: top;\n",
       "    }\n",
       "</style>\n",
       "<table border=\"1\" class=\"dataframe\">\n",
       "  <thead>\n",
       "    <tr style=\"text-align: right;\">\n",
       "      <th></th>\n",
       "      <th>Score</th>\n",
       "      <th>Summary</th>\n",
       "      <th>Summary1</th>\n",
       "    </tr>\n",
       "  </thead>\n",
       "  <tbody>\n",
       "    <tr>\n",
       "      <th>0</th>\n",
       "      <td>positive</td>\n",
       "      <td>good quality dog food</td>\n",
       "      <td>[good, qualiti, dog, food]</td>\n",
       "    </tr>\n",
       "    <tr>\n",
       "      <th>1</th>\n",
       "      <td>negative</td>\n",
       "      <td>not as advertised</td>\n",
       "      <td>[not, as, advertis]</td>\n",
       "    </tr>\n",
       "    <tr>\n",
       "      <th>2</th>\n",
       "      <td>positive</td>\n",
       "      <td>delight says it all</td>\n",
       "      <td>[delight, say, it, all]</td>\n",
       "    </tr>\n",
       "    <tr>\n",
       "      <th>3</th>\n",
       "      <td>negative</td>\n",
       "      <td>cough medicine</td>\n",
       "      <td>[cough, medicin]</td>\n",
       "    </tr>\n",
       "    <tr>\n",
       "      <th>4</th>\n",
       "      <td>positive</td>\n",
       "      <td>great taffy</td>\n",
       "      <td>[great, taffi]</td>\n",
       "    </tr>\n",
       "    <tr>\n",
       "      <th>5</th>\n",
       "      <td>positive</td>\n",
       "      <td>nice taffy</td>\n",
       "      <td>[nice, taffi]</td>\n",
       "    </tr>\n",
       "    <tr>\n",
       "      <th>6</th>\n",
       "      <td>positive</td>\n",
       "      <td>great just as good as the expensive brands</td>\n",
       "      <td>[great, just, as, good, as, the, expens, brand]</td>\n",
       "    </tr>\n",
       "    <tr>\n",
       "      <th>7</th>\n",
       "      <td>positive</td>\n",
       "      <td>wonderful tasty taffy</td>\n",
       "      <td>[wonder, tasti, taffi]</td>\n",
       "    </tr>\n",
       "    <tr>\n",
       "      <th>8</th>\n",
       "      <td>positive</td>\n",
       "      <td>yay barley</td>\n",
       "      <td>[yay, barley]</td>\n",
       "    </tr>\n",
       "    <tr>\n",
       "      <th>9</th>\n",
       "      <td>positive</td>\n",
       "      <td>healthy dog food</td>\n",
       "      <td>[healthi, dog, food]</td>\n",
       "    </tr>\n",
       "  </tbody>\n",
       "</table>\n",
       "</div>"
      ],
      "text/plain": [
       "      Score                                      Summary  \\\n",
       "0  positive                        good quality dog food   \n",
       "1  negative                            not as advertised   \n",
       "2  positive                          delight says it all   \n",
       "3  negative                               cough medicine   \n",
       "4  positive                                  great taffy   \n",
       "5  positive                                   nice taffy   \n",
       "6  positive  great just as good as the expensive brands    \n",
       "7  positive                        wonderful tasty taffy   \n",
       "8  positive                                   yay barley   \n",
       "9  positive                             healthy dog food   \n",
       "\n",
       "                                          Summary1  \n",
       "0                       [good, qualiti, dog, food]  \n",
       "1                              [not, as, advertis]  \n",
       "2                          [delight, say, it, all]  \n",
       "3                                 [cough, medicin]  \n",
       "4                                   [great, taffi]  \n",
       "5                                    [nice, taffi]  \n",
       "6  [great, just, as, good, as, the, expens, brand]  \n",
       "7                           [wonder, tasti, taffi]  \n",
       "8                                    [yay, barley]  \n",
       "9                             [healthi, dog, food]  "
      ]
     },
     "execution_count": 286,
     "metadata": {},
     "output_type": "execute_result"
    }
   ],
   "source": [
    "df.head(10)"
   ]
  },
  {
   "cell_type": "code",
   "execution_count": 288,
   "metadata": {
    "collapsed": true
   },
   "outputs": [],
   "source": [
    "stop=stopwords.words('english')"
   ]
  },
  {
   "cell_type": "markdown",
   "metadata": {},
   "source": [
    "Everything seems to be working as expected. So let's proceed with building our text classification models."
   ]
  },
  {
   "cell_type": "markdown",
   "metadata": {},
   "source": [
    "Text Mining and Classification task can be computationally  very expensive and generally with datasets like this, the computation time might limit us from trying various models for supervised learning. Hence, to address this issue, we will first try building sample models on a smaller subset and the model with best performance will then be scaled to entire dataset.    "
   ]
  },
  {
   "cell_type": "code",
   "execution_count": 289,
   "metadata": {},
   "outputs": [
    {
     "data": {
      "text/plain": [
       "(568454, 3)"
      ]
     },
     "execution_count": 289,
     "metadata": {},
     "output_type": "execute_result"
    }
   ],
   "source": [
    "df.shape"
   ]
  },
  {
   "cell_type": "markdown",
   "metadata": {},
   "source": [
    "We have more than 560,000 entries for our entire dataset. Let's begin by selecting 100,000 rows selected at random in sample dataset. "
   ]
  },
  {
   "cell_type": "code",
   "execution_count": 290,
   "metadata": {},
   "outputs": [
    {
     "data": {
      "text/html": [
       "<div>\n",
       "<style>\n",
       "    .dataframe thead tr:only-child th {\n",
       "        text-align: right;\n",
       "    }\n",
       "\n",
       "    .dataframe thead th {\n",
       "        text-align: left;\n",
       "    }\n",
       "\n",
       "    .dataframe tbody tr th {\n",
       "        vertical-align: top;\n",
       "    }\n",
       "</style>\n",
       "<table border=\"1\" class=\"dataframe\">\n",
       "  <thead>\n",
       "    <tr style=\"text-align: right;\">\n",
       "      <th></th>\n",
       "      <th>index</th>\n",
       "      <th>Score</th>\n",
       "      <th>Summary</th>\n",
       "      <th>Summary1</th>\n",
       "    </tr>\n",
       "  </thead>\n",
       "  <tbody>\n",
       "    <tr>\n",
       "      <th>0</th>\n",
       "      <td>149566</td>\n",
       "      <td>positive</td>\n",
       "      <td>vanilla cream stevia</td>\n",
       "      <td>[vanilla, cream, stevia]</td>\n",
       "    </tr>\n",
       "    <tr>\n",
       "      <th>1</th>\n",
       "      <td>445354</td>\n",
       "      <td>positive</td>\n",
       "      <td>so good</td>\n",
       "      <td>[so, good]</td>\n",
       "    </tr>\n",
       "    <tr>\n",
       "      <th>2</th>\n",
       "      <td>331321</td>\n",
       "      <td>positive</td>\n",
       "      <td>this agave syrup is awesome</td>\n",
       "      <td>[thi, agav, syrup, is, awesom]</td>\n",
       "    </tr>\n",
       "    <tr>\n",
       "      <th>3</th>\n",
       "      <td>62122</td>\n",
       "      <td>positive</td>\n",
       "      <td>exceptional</td>\n",
       "      <td>[except]</td>\n",
       "    </tr>\n",
       "    <tr>\n",
       "      <th>4</th>\n",
       "      <td>311126</td>\n",
       "      <td>positive</td>\n",
       "      <td>no lemon not much green tea</td>\n",
       "      <td>[no, lemon, not, much, green, tea]</td>\n",
       "    </tr>\n",
       "    <tr>\n",
       "      <th>5</th>\n",
       "      <td>157494</td>\n",
       "      <td>positive</td>\n",
       "      <td>raisin bread</td>\n",
       "      <td>[raisin, bread]</td>\n",
       "    </tr>\n",
       "    <tr>\n",
       "      <th>6</th>\n",
       "      <td>542008</td>\n",
       "      <td>positive</td>\n",
       "      <td>pleasant and mild</td>\n",
       "      <td>[pleasant, and, mild]</td>\n",
       "    </tr>\n",
       "    <tr>\n",
       "      <th>7</th>\n",
       "      <td>555974</td>\n",
       "      <td>positive</td>\n",
       "      <td>my pit loves it</td>\n",
       "      <td>[my, pit, love, it]</td>\n",
       "    </tr>\n",
       "    <tr>\n",
       "      <th>8</th>\n",
       "      <td>270996</td>\n",
       "      <td>positive</td>\n",
       "      <td>excellent fruit picker</td>\n",
       "      <td>[excel, fruit, picker]</td>\n",
       "    </tr>\n",
       "    <tr>\n",
       "      <th>9</th>\n",
       "      <td>423858</td>\n",
       "      <td>positive</td>\n",
       "      <td>incredible</td>\n",
       "      <td>[incred]</td>\n",
       "    </tr>\n",
       "  </tbody>\n",
       "</table>\n",
       "</div>"
      ],
      "text/plain": [
       "    index     Score                       Summary  \\\n",
       "0  149566  positive          vanilla cream stevia   \n",
       "1  445354  positive                       so good   \n",
       "2  331321  positive  this agave syrup is awesome    \n",
       "3   62122  positive                  exceptional    \n",
       "4  311126  positive   no lemon not much green tea   \n",
       "5  157494  positive                  raisin bread   \n",
       "6  542008  positive             pleasant and mild   \n",
       "7  555974  positive               my pit loves it   \n",
       "8  270996  positive        excellent fruit picker   \n",
       "9  423858  positive                   incredible    \n",
       "\n",
       "                             Summary1  \n",
       "0            [vanilla, cream, stevia]  \n",
       "1                          [so, good]  \n",
       "2      [thi, agav, syrup, is, awesom]  \n",
       "3                            [except]  \n",
       "4  [no, lemon, not, much, green, tea]  \n",
       "5                     [raisin, bread]  \n",
       "6               [pleasant, and, mild]  \n",
       "7                 [my, pit, love, it]  \n",
       "8              [excel, fruit, picker]  \n",
       "9                            [incred]  "
      ]
     },
     "execution_count": 290,
     "metadata": {},
     "output_type": "execute_result"
    }
   ],
   "source": [
    "sampledf=df.sample(n=100000)\n",
    "sampledf.reset_index(inplace=True)\n",
    "sampledf.head(10)"
   ]
  },
  {
   "cell_type": "code",
   "execution_count": 291,
   "metadata": {},
   "outputs": [
    {
     "data": {
      "text/plain": [
       "(100000, 4)"
      ]
     },
     "execution_count": 291,
     "metadata": {},
     "output_type": "execute_result"
    }
   ],
   "source": [
    "sampledf.shape"
   ]
  },
  {
   "cell_type": "markdown",
   "metadata": {},
   "source": [
    "Next, we need to split our data in training and test datasets with 80% for the purpose of training and 20% for the purpose of validating our models. For this, we will use Scikit-learn train_test_split method."
   ]
  },
  {
   "cell_type": "code",
   "execution_count": 292,
   "metadata": {},
   "outputs": [],
   "source": [
    "Score=sampledf['Score']\n",
    "Summary=sampledf['Summary']\n",
    "\n",
    "X_train,X_test,y_train,y_test=train_test_split(Summary,Score,test_size=0.1,random_state=42)"
   ]
  },
  {
   "cell_type": "code",
   "execution_count": 294,
   "metadata": {},
   "outputs": [
    {
     "name": "stdout",
     "output_type": "stream",
     "text": [
      "(90000,)\n",
      "(10000,)\n",
      "(90000,)\n",
      "(10000,)\n"
     ]
    }
   ],
   "source": [
    "print(X_train.shape)\n",
    "print(X_test.shape)\n",
    "print(y_train.shape)\n",
    "print(y_test.shape)\n"
   ]
  },
  {
   "cell_type": "markdown",
   "metadata": {},
   "source": [
    "Now that everything is ready, let's start by building our first model using SVM. We will deploy grid search for finding some starting parameters related to TfIdfVectorizer and SVM classifier."
   ]
  },
  {
   "cell_type": "markdown",
   "metadata": {},
   "source": [
    "# Model-1 with SVM"
   ]
  },
  {
   "cell_type": "code",
   "execution_count": 295,
   "metadata": {
    "scrolled": false
   },
   "outputs": [
    {
     "name": "stdout",
     "output_type": "stream",
     "text": [
      "Fitting 4 folds for each of 8 candidates, totalling 32 fits\n"
     ]
    },
    {
     "name": "stderr",
     "output_type": "stream",
     "text": [
      "[Parallel(n_jobs=1)]: Done  32 out of  32 | elapsed: 107.8min finished\n"
     ]
    },
    {
     "name": "stdout",
     "output_type": "stream",
     "text": [
      "Training Complete\n",
      "\n",
      "Best Parameter Set: {'clf__C': 1.0, 'vect__ngram_range': (1, 1), 'vect__stop_words': ['i', 'me', 'my', 'myself', 'we', 'our', 'ours', 'ourselves', 'you', \"you're\", \"you've\", \"you'll\", \"you'd\", 'your', 'yours', 'yourself', 'yourselves', 'he', 'him', 'his', 'himself', 'she', \"she's\", 'her', 'hers', 'herself', 'it', \"it's\", 'its', 'itself', 'they', 'them', 'their', 'theirs', 'themselves', 'what', 'which', 'who', 'whom', 'this', 'that', \"that'll\", 'these', 'those', 'am', 'is', 'are', 'was', 'were', 'be', 'been', 'being', 'have', 'has', 'had', 'having', 'do', 'does', 'did', 'doing', 'a', 'an', 'the', 'and', 'but', 'if', 'or', 'because', 'as', 'until', 'while', 'of', 'at', 'by', 'for', 'with', 'about', 'against', 'between', 'into', 'through', 'during', 'before', 'after', 'above', 'below', 'to', 'from', 'up', 'down', 'in', 'out', 'on', 'off', 'over', 'under', 'again', 'further', 'then', 'once', 'here', 'there', 'when', 'where', 'why', 'how', 'all', 'any', 'both', 'each', 'few', 'more', 'most', 'other', 'some', 'such', 'no', 'nor', 'not', 'only', 'own', 'same', 'so', 'than', 'too', 'very', 's', 't', 'can', 'will', 'just', 'don', \"don't\", 'should', \"should've\", 'now', 'd', 'll', 'm', 'o', 're', 've', 'y', 'ain', 'aren', \"aren't\", 'couldn', \"couldn't\", 'didn', \"didn't\", 'doesn', \"doesn't\", 'hadn', \"hadn't\", 'hasn', \"hasn't\", 'haven', \"haven't\", 'isn', \"isn't\", 'ma', 'mightn', \"mightn't\", 'mustn', \"mustn't\", 'needn', \"needn't\", 'shan', \"shan't\", 'shouldn', \"shouldn't\", 'wasn', \"wasn't\", 'weren', \"weren't\", 'won', \"won't\", 'wouldn', \"wouldn't\"], 'vect__tokenizer': <function tokenizer at 0x0000021476A3C840>}\n",
      "Time Taken :  6766.2172837257385 sec\n",
      "Model_1 SVM Accuracy Score : 0.858 \n",
      "Model_1 F1 Score : 0.858 \n",
      "Model_1 Classification Report              precision    recall  f1-score   support\n",
      "\n",
      "   negative       0.00      0.00      0.00      1418\n",
      "   positive       0.86      1.00      0.92      8582\n",
      "\n",
      "avg / total       0.74      0.86      0.79     10000\n",
      "\n"
     ]
    },
    {
     "name": "stderr",
     "output_type": "stream",
     "text": [
      "C:\\Users\\yarathor\\AppData\\Local\\Continuum\\anaconda3\\lib\\site-packages\\sklearn\\metrics\\classification.py:1135: UndefinedMetricWarning: Precision and F-score are ill-defined and being set to 0.0 in labels with no predicted samples.\n",
      "  'precision', 'predicted', average, warn_for)\n"
     ]
    }
   ],
   "source": [
    "\n",
    "tfidf=TfidfVectorizer(strip_accents=None,\n",
    "                     lowercase=False,\n",
    "                     preprocessor=None)\n",
    "\n",
    "param_grid=[{'vect__ngram_range':[(1,1)],\n",
    "            'vect__stop_words':[stop,None],\n",
    "            'vect__tokenizer':[tokenizer,tokenize_porter],\n",
    "            'clf__C':[1.0,10.0]}]\n",
    "\n",
    "\n",
    "#Model-2 with SVM and tokenizer and tokenizer_porter in grid_search\n",
    "\n",
    "svm_tfidf_1=Pipeline([('vect',tfidf),('clf',SVC(random_state=0))])\n",
    "\n",
    "gs_svm_tfidf_1=GridSearchCV(svm_tfidf_1,param_grid,scoring='accuracy',\n",
    "                            cv=4,verbose=1,n_jobs=1)\n",
    "\n",
    "start=time.time()\n",
    "gs_svm_tfidf_1.fit(X_train,y_train)\n",
    "end=time.time()\n",
    "\n",
    "print('Training Complete\\n')\n",
    "print('Best Parameter Set: %s'%gs_svm_tfidf_1.best_params_)\n",
    "print('Time Taken : ',end-start,'sec')\n",
    "\n",
    "prediction_svm_1=gs_svm_tfidf_1.predict(X_test)\n",
    "\n",
    "print('Model_1 SVM Accuracy Score : %.3f ' %(accuracy_score(y_test,prediction_svm_1)))\n",
    "print('Model_1 F1 Score : %.3f ' %(f1_score(y_test,prediction_svm_1,average='micro')))\n",
    "print('Model_1 Classification Report' ,classification_report(y_test,prediction_svm_1))"
   ]
  },
  {
   "cell_type": "markdown",
   "metadata": {},
   "source": [
    "The above model based on linear SVM gave us a classification accuracy score of about 86%."
   ]
  },
  {
   "cell_type": "markdown",
   "metadata": {},
   "source": [
    "Since most research papers have suggested using Bernoulli's Naive Bayes Classifier for text classification, let's give it a try to assess its performance with respect to linear SVM classifier. The reason for high popularity of NB models is that they are simple probablistic models which requires counts of words and n-grams in hash tables. Each word count is treated as separate feature and hence, the feature space consist of total number of distinct words in our entire training set."
   ]
  },
  {
   "cell_type": "markdown",
   "metadata": {},
   "source": [
    "# Model-2 with BernoulliNB"
   ]
  },
  {
   "cell_type": "code",
   "execution_count": 296,
   "metadata": {},
   "outputs": [
    {
     "name": "stdout",
     "output_type": "stream",
     "text": [
      "Fitting 4 folds for each of 8 candidates, totalling 32 fits\n"
     ]
    },
    {
     "name": "stderr",
     "output_type": "stream",
     "text": [
      "[Parallel(n_jobs=1)]: Done  32 out of  32 | elapsed:  2.2min finished\n"
     ]
    },
    {
     "name": "stdout",
     "output_type": "stream",
     "text": [
      "Best Parameter Set: {'vect__ngram_range': (1, 1), 'vect__stop_words': ['i', 'me', 'my', 'myself', 'we', 'our', 'ours', 'ourselves', 'you', \"you're\", \"you've\", \"you'll\", \"you'd\", 'your', 'yours', 'yourself', 'yourselves', 'he', 'him', 'his', 'himself', 'she', \"she's\", 'her', 'hers', 'herself', 'it', \"it's\", 'its', 'itself', 'they', 'them', 'their', 'theirs', 'themselves', 'what', 'which', 'who', 'whom', 'this', 'that', \"that'll\", 'these', 'those', 'am', 'is', 'are', 'was', 'were', 'be', 'been', 'being', 'have', 'has', 'had', 'having', 'do', 'does', 'did', 'doing', 'a', 'an', 'the', 'and', 'but', 'if', 'or', 'because', 'as', 'until', 'while', 'of', 'at', 'by', 'for', 'with', 'about', 'against', 'between', 'into', 'through', 'during', 'before', 'after', 'above', 'below', 'to', 'from', 'up', 'down', 'in', 'out', 'on', 'off', 'over', 'under', 'again', 'further', 'then', 'once', 'here', 'there', 'when', 'where', 'why', 'how', 'all', 'any', 'both', 'each', 'few', 'more', 'most', 'other', 'some', 'such', 'no', 'nor', 'not', 'only', 'own', 'same', 'so', 'than', 'too', 'very', 's', 't', 'can', 'will', 'just', 'don', \"don't\", 'should', \"should've\", 'now', 'd', 'll', 'm', 'o', 're', 've', 'y', 'ain', 'aren', \"aren't\", 'couldn', \"couldn't\", 'didn', \"didn't\", 'doesn', \"doesn't\", 'hadn', \"hadn't\", 'hasn', \"hasn't\", 'haven', \"haven't\", 'isn', \"isn't\", 'ma', 'mightn', \"mightn't\", 'mustn', \"mustn't\", 'needn', \"needn't\", 'shan', \"shan't\", 'shouldn', \"shouldn't\", 'wasn', \"wasn't\", 'weren', \"weren't\", 'won', \"won't\", 'wouldn', \"wouldn't\"], 'vect__tokenizer': <function tokenizer at 0x0000021476A3C840>}\n",
      "Time Taken :  134.64478993415833 sec\n",
      "Model_1 Bernoulli-NB Accuracy Score : 0.892 \n",
      "Model_1 F1 Score : 0.892 \n",
      "Model_1 Classification Report              precision    recall  f1-score   support\n",
      "\n",
      "   negative       0.70      0.41      0.52      1418\n",
      "   positive       0.91      0.97      0.94      8582\n",
      "\n",
      "avg / total       0.88      0.89      0.88     10000\n",
      "\n"
     ]
    }
   ],
   "source": [
    "\n",
    "from sklearn.naive_bayes import BernoulliNB\n",
    "\n",
    "\n",
    "tfidf=TfidfVectorizer(strip_accents=None,\n",
    "                     lowercase=False,\n",
    "                     preprocessor=None)\n",
    "\n",
    "param_grid=[{'vect__ngram_range':[(1,1)],\n",
    "             'vect__stop_words':[stop,None],\n",
    "             'vect__tokenizer':[tokenizer,tokenize_porter]},\n",
    "            {'vect__ngram_range':[(1,1)],\n",
    "             'vect__stop_words':[stop,None],\n",
    "             'vect__tokenizer':[tokenizer,tokenize_porter],\n",
    "             'vect__use_idf':[False],\n",
    "             'vect__norm':[None]}]\n",
    "\n",
    "\n",
    "\n",
    "ber_nb_tfidf=Pipeline([('vect',tfidf),('clf',BernoulliNB())])\n",
    "\n",
    "gs_nb_tfidf=GridSearchCV(ber_nb_tfidf,param_grid,scoring='accuracy',\n",
    "                         cv=4,verbose=1,n_jobs=1)\n",
    "\n",
    "\n",
    "start=time.time()\n",
    "gs_nb_tfidf.fit(X_train,y_train)\n",
    "end=time.time()\n",
    "print('Best Parameter Set: %s'%gs_nb_tfidf.best_params_)\n",
    "print('Time Taken : ',end-start,'sec')\n",
    "\n",
    "prediction_bnb=gs_nb_tfidf.predict(X_test)\n",
    "\n",
    "print('Model_1 Bernoulli-NB Accuracy Score : %.3f ' %(accuracy_score(y_test,prediction_bnb,normalize=True)))\n",
    "print('Model_1 F1 Score : %.3f ' %(f1_score(y_test,prediction_bnb,average='micro')))\n",
    "print('Model_1 Classification Report' ,classification_report(y_test,prediction_bnb))"
   ]
  },
  {
   "cell_type": "markdown",
   "metadata": {},
   "source": [
    "Slight increment in accuracy of approx. 3 percent when using Bernoulli Naive-Bayes. However, it should be noted that BernoulliNB is best suited for binary/boolean features as mentioned on scikit-learn documentation website. A more suitable classifier of text classification purpose is Multinomial Naive-Bayes which is suitable for classification with discrete features. Hence, keeping this is mind, let's give MultinomialNB a try and see if there are any performance gains over BernoulliNB and linearSVM."
   ]
  },
  {
   "cell_type": "markdown",
   "metadata": {},
   "source": [
    "# Model-3 with MultinomialNB"
   ]
  },
  {
   "cell_type": "code",
   "execution_count": 297,
   "metadata": {},
   "outputs": [
    {
     "name": "stdout",
     "output_type": "stream",
     "text": [
      "Fitting 3 folds for each of 8 candidates, totalling 24 fits\n"
     ]
    },
    {
     "name": "stderr",
     "output_type": "stream",
     "text": [
      "[Parallel(n_jobs=1)]: Done  24 out of  24 | elapsed:  1.7min finished\n"
     ]
    },
    {
     "name": "stdout",
     "output_type": "stream",
     "text": [
      "Training Complete\n",
      "\n",
      "Best Parameter Set: {'vect__ngram_range': (1, 1), 'vect__norm': None, 'vect__stop_words': None, 'vect__tokenizer': <function tokenizer at 0x0000021476A3C840>, 'vect__use_idf': False}\n",
      "Time Taken :  103.05371165275574 sec\n",
      "Model_1 Multinomial-NB Accu. Score : 0.901 \n",
      "Model_1 F1 Score : 0.901 \n",
      "Model_1 Classification Report              precision    recall  f1-score   support\n",
      "\n",
      "   negative       0.70      0.53      0.60      1418\n",
      "   positive       0.93      0.96      0.94      8582\n",
      "\n",
      "avg / total       0.89      0.90      0.90     10000\n",
      "\n"
     ]
    }
   ],
   "source": [
    "\n",
    "tfidf=TfidfVectorizer(strip_accents=None,\n",
    "                     lowercase=False,\n",
    "                     preprocessor=None)\n",
    "\n",
    "param_grid=[{'vect__ngram_range':[(1,1)],\n",
    "            'vect__stop_words':[stop,None],\n",
    "            'vect__tokenizer':[tokenizer,tokenize_porter]},\n",
    "            {'vect__ngram_range':[(1,1)],\n",
    "            'vect__stop_words':[stop,None],             \n",
    "            'vect__tokenizer':[tokenizer,tokenize_porter],\n",
    "             'vect__use_idf':[False],\n",
    "             'vect__norm':[None]}]\n",
    "\n",
    "\n",
    "\n",
    "multi_nb_tfidf=Pipeline([('vect',tfidf),('clf',MultinomialNB())])\n",
    "\n",
    "gs_mnb_tfidf=GridSearchCV(multi_nb_tfidf,param_grid,scoring='accuracy',\n",
    "                        cv=3,verbose=1,n_jobs=1)\n",
    "\n",
    "start=time.time()\n",
    "gs_mnb_tfidf.fit(X_train,y_train)\n",
    "end=time.time()\n",
    "\n",
    "print('Training Complete\\n')\n",
    "print('Best Parameter Set: %s'%gs_mnb_tfidf.best_params_)\n",
    "print('Time Taken : ',end-start,'sec')\n",
    "\n",
    "\n",
    "\n",
    "prediction_mnb=gs_mnb_tfidf.predict(X_test)\n",
    "\n",
    "print('Model_1 Multinomial-NB Accu. Score : %.3f ' %(accuracy_score(y_test,prediction_mnb,normalize=True)))\n",
    "print('Model_1 F1 Score : %.3f ' %(f1_score(y_test,prediction_mnb,average='micro')))\n",
    "print('Model_1 Classification Report' ,classification_report(y_test,prediction_mnb))\n"
   ]
  },
  {
   "cell_type": "markdown",
   "metadata": {},
   "source": [
    "As expected, MultinomialNB did worked slightly better than BernoulliNB but it should be noted that we are training our models using less than 10% of our total available data. Using all the available data is always advisable and can give far better results than above. We will try to build one last model using Logistic Regression since logistic regression is equally suggested for text classification tasks as naive-bayes and can perform even better than naive-bayes in some text-classification tasks."
   ]
  },
  {
   "cell_type": "markdown",
   "metadata": {},
   "source": [
    "# Model-4 using Log-Reg"
   ]
  },
  {
   "cell_type": "code",
   "execution_count": 298,
   "metadata": {},
   "outputs": [
    {
     "name": "stdout",
     "output_type": "stream",
     "text": [
      "Fitting 4 folds for each of 32 candidates, totalling 128 fits\n"
     ]
    },
    {
     "name": "stderr",
     "output_type": "stream",
     "text": [
      "[Parallel(n_jobs=1)]: Done 128 out of 128 | elapsed:  9.7min finished\n"
     ]
    },
    {
     "name": "stdout",
     "output_type": "stream",
     "text": [
      "Training Complete\n",
      "\n",
      "Best Parameter Set: {'clf__C': 10.0, 'clf__penalty': 'l2', 'vect__ngram_range': (1, 1), 'vect__stop_words': None, 'vect__tokenizer': <function tokenizer at 0x0000021476A3C840>}\n",
      "Time Taken :  581.9648563861847 sec\n",
      "Model_1 Log-Reg Accuracy Score : 0.910 \n",
      "Model_1 F1 Score : 0.910 \n",
      "Model_1 Classification Report              precision    recall  f1-score   support\n",
      "\n",
      "   negative       0.74      0.57      0.64      1418\n",
      "   positive       0.93      0.97      0.95      8582\n",
      "\n",
      "avg / total       0.90      0.91      0.91     10000\n",
      "\n"
     ]
    }
   ],
   "source": [
    "\n",
    "tfidf=TfidfVectorizer(strip_accents=None,\n",
    "                      lowercase=False,\n",
    "                      preprocessor=None)\n",
    "\n",
    "param_grid=[{'vect__ngram_range':[(1,1)],\n",
    "            'vect__stop_words':[stop,None],\n",
    "            'vect__tokenizer':[tokenizer,tokenize_porter],\n",
    "            'clf__penalty':['l1','l2'],\n",
    "            'clf__C':[1.0,10.0]},\n",
    "           {'vect__ngram_range': [(1,1)],\n",
    "            'vect__stop_words': [stop, None],\n",
    "            'vect__tokenizer': [tokenizer,tokenize_porter],\n",
    "            'vect__use_idf':[False],\n",
    "            'vect__norm':[None],\n",
    "            'clf__penalty': ['l1', 'l2'],\n",
    "            'clf__C': [1.0, 10.0]}]\n",
    "                \n",
    "lr_tfidf=Pipeline([('vect',tfidf),\n",
    "                   ('clf',LogisticRegression(random_state=0))])\n",
    "\n",
    "gs_lr_tfidf=GridSearchCV(lr_tfidf,param_grid,\n",
    "                         scoring='accuracy',\n",
    "                         cv=4,verbose=1,n_jobs=1)\n",
    "\n",
    "start=time.time()\n",
    "gs_lr_tfidf.fit(X_train,y_train)\n",
    "end=time.time()\n",
    "\n",
    "print('Training Complete\\n')\n",
    "print('Best Parameter Set: %s'%gs_lr_tfidf.best_params_)\n",
    "print('Time Taken : ',end-start,'sec')\n",
    "\n",
    "prediction_lr=gs_lr_tfidf.predict(X_test)\n",
    "\n",
    "print('Model_1 Log-Reg Accuracy Score : %.3f ' %(accuracy_score(y_test,prediction_lr,normalize=True)))\n",
    "print('Model_1 F1 Score : %.3f ' %(f1_score(y_test,prediction_lr,average='micro')))\n",
    "print('Model_1 Classification Report' ,classification_report(y_test,prediction_lr))\n"
   ]
  },
  {
   "cell_type": "code",
   "execution_count": null,
   "metadata": {},
   "outputs": [],
   "source": []
  },
  {
   "cell_type": "markdown",
   "metadata": {},
   "source": [
    "We can see that Logistic Regression have performed by far better than all the models (LinearSVM, BernoulliNB, MutinominalNB). Hence we will finalize this project by training our Logistic Regression model over entire training data to achieve best performance."
   ]
  },
  {
   "cell_type": "code",
   "execution_count": 299,
   "metadata": {},
   "outputs": [
    {
     "data": {
      "text/plain": [
       "(568454, 3)"
      ]
     },
     "execution_count": 299,
     "metadata": {},
     "output_type": "execute_result"
    }
   ],
   "source": [
    "df.shape"
   ]
  },
  {
   "cell_type": "code",
   "execution_count": 300,
   "metadata": {},
   "outputs": [],
   "source": [
    "Score=df['Score']\n",
    "Summary=df['Summary']\n",
    "\n",
    "X_train,X_test,y_train,y_test=train_test_split(Summary,Score,\n",
    "                                               test_size=0.1,\n",
    "                                               random_state=42)\n"
   ]
  },
  {
   "cell_type": "code",
   "execution_count": 301,
   "metadata": {
    "scrolled": true
   },
   "outputs": [
    {
     "name": "stdout",
     "output_type": "stream",
     "text": [
      "Fitting 4 folds for each of 32 candidates, totalling 128 fits\n"
     ]
    },
    {
     "name": "stderr",
     "output_type": "stream",
     "text": [
      "[Parallel(n_jobs=1)]: Done 128 out of 128 | elapsed: 59.9min finished\n"
     ]
    },
    {
     "name": "stdout",
     "output_type": "stream",
     "text": [
      "Training Complete\n",
      "\n",
      "Best Parameter Set: {'clf__C': 10.0, 'clf__penalty': 'l2', 'vect__ngram_range': (1, 1), 'vect__stop_words': None, 'vect__tokenizer': <function tokenizer at 0x0000021476A3C840>}\n",
      "Time Taken :  3608.89608836174 sec\n",
      "Model_4 Log-Reg Accuracy Score : 0.917 \n",
      "Model_4 F1 Score : 0.917 \n",
      "Model_4 Classification Report              precision    recall  f1-score   support\n",
      "\n",
      "   negative       0.76      0.61      0.68      8083\n",
      "   positive       0.94      0.97      0.95     48763\n",
      "\n",
      "avg / total       0.91      0.92      0.91     56846\n",
      "\n"
     ]
    }
   ],
   "source": [
    "\n",
    "tfidf=TfidfVectorizer(strip_accents=None,\n",
    "                      lowercase=False,\n",
    "                      preprocessor=None)\n",
    "\n",
    "param_grid=[{'vect__ngram_range':[(1,1)],\n",
    "            'vect__stop_words':[stop,None],\n",
    "            'vect__tokenizer':[tokenizer,tokenize_porter],\n",
    "            'clf__penalty':['l1','l2'],\n",
    "            'clf__C':[1.0,10.0]},\n",
    "           {'vect__ngram_range': [(1,1)],\n",
    "            'vect__stop_words': [stop, None],\n",
    "            'vect__tokenizer': [tokenizer,tokenize_porter],\n",
    "            'vect__use_idf':[False],\n",
    "            'vect__norm':[None],\n",
    "            'clf__penalty': ['l1', 'l2'],\n",
    "            'clf__C': [1.0, 10.0]}]\n",
    "                \n",
    "lr_tfidf=Pipeline([('vect',tfidf),\n",
    "                   ('clf',LogisticRegression(random_state=0))])\n",
    "\n",
    "gs_lr_tfidf=GridSearchCV(lr_tfidf,param_grid,\n",
    "                         scoring='accuracy',\n",
    "                         cv=4,verbose=1,n_jobs=1)\n",
    "\n",
    "start=time.time()\n",
    "gs_lr_tfidf.fit(X_train,y_train)\n",
    "end=time.time()\n",
    "\n",
    "print('Training Complete\\n')\n",
    "print('Best Parameter Set: %s'%gs_lr_tfidf.best_params_)\n",
    "print('Time Taken : ',end-start,'sec')\n",
    "\n",
    "predictions_lr=gs_lr_tfidf.predict(X_test)\n",
    "\n",
    "print('Model_4 Log-Reg Accuracy Score : %.3f ' %(accuracy_score(y_test,predictions_lr,normalize=True)))\n",
    "print('Model_4 F1 Score : %.3f ' %(f1_score(y_test,predictions_lr,average='micro')))\n",
    "print('Model_4 Classification Report' ,classification_report(y_test,predictions_lr))\n"
   ]
  },
  {
   "cell_type": "markdown",
   "metadata": {},
   "source": [
    "Looking at the results, we can see that logistic regression model performed better than the models tried previously with accuracy as high as ~92%. Lets plot the confusion matrix for this model to evaluate the quality of output of our model."
   ]
  },
  {
   "cell_type": "markdown",
   "metadata": {},
   "source": [
    "### Confusion Matrix"
   ]
  },
  {
   "cell_type": "code",
   "execution_count": 304,
   "metadata": {},
   "outputs": [
    {
     "data": {
      "image/png": "[encoded data removed]",
      "text/plain": [
       "<matplotlib.figure.Figure at 0x2133deda160>"
      ]
     },
     "metadata": {},
     "output_type": "display_data"
    },
    {
     "data": {
      "text/plain": [
       "<matplotlib.figure.Figure at 0x2133db424a8>"
      ]
     },
     "metadata": {},
     "output_type": "display_data"
    }
   ],
   "source": [
    "\n",
    "plt.imshow(confusion_matrix(y_test,predictions_lr),\n",
    "           interpolation='nearest',cmap=plt.cm.Greens)\n",
    "plt.title('Confusion Matrix for Logistic Regression')\n",
    "plt.colorbar()\n",
    "plt.xticks(np.arange(len(set(Score))), set(Score), rotation=45  )\n",
    "plt.yticks(np.arange(len(set(Score))), set(Score),rotation=45  )\n",
    "plt.tight_layout()\n",
    "plt.ylabel('True label')\n",
    "plt.xlabel('Predicted label')\n",
    "np.set_printoptions(precision=2)\n",
    "plt.figure()\n",
    "\n",
    "plt.show()"
   ]
  },
  {
   "cell_type": "code",
   "execution_count": null,
   "metadata": {
    "collapsed": true
   },
   "outputs": [],
   "source": []
  }
 ],
 "metadata": {
  "kernelspec": {
   "display_name": "Python 3",
   "language": "python",
   "name": "python3"
  },
  "language_info": {
   "codemirror_mode": {
    "name": "ipython",
    "version": 3
   },
   "file_extension": ".py",
   "mimetype": "text/x-python",
   "name": "python",
   "nbconvert_exporter": "python",
   "pygments_lexer": "ipython3",
   "version": "3.6.3"
  }
 },
 "nbformat": 4,
 "nbformat_minor": 2
}
